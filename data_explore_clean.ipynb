{
 "cells": [
  {
   "cell_type": "code",
   "execution_count": null,
   "id": "baccbf67-52b3-4c17-b636-cc9e6c3401de",
   "metadata": {},
   "outputs": [],
   "source": [
    "# DREAMTEAM PROJECT 1"
   ]
  },
  {
   "cell_type": "code",
   "execution_count": null,
   "id": "ccd2103f-c598-4cfb-a004-2657f8588378",
   "metadata": {},
   "outputs": [],
   "source": [
    "# # Datasets to be used\n",
    "# 1. Trading cards (high liquidity cards) - \n",
    "# 2. Bitcoin - https://api.alternative.me/v2/ticker/Bitcoin/?convert=CAD\n",
    "# 3. Government bond (baseline) - https://au.investing.com/rates-bonds/australia-10-year-bond-yield-historical-data\n",
    "# 4. ASX200 (general stock market) - https://www.google.com/finance/quote/XJO:INDEXASX\n",
    "# 5. Property - ABS data in 8 capital cities- https://www.abs.gov.au/statistics/economy/price-indexes-and-inflation/residential-property-price-indexes-eight-capital-cities/latest-release"
   ]
  },
  {
   "cell_type": "code",
   "execution_count": 10,
   "id": "ee1d0a8e-e9ab-4dca-80c8-4a37b45303dd",
   "metadata": {},
   "outputs": [],
   "source": [
    "# Intialising imports\n",
    "import os\n",
    "import requests\n",
    "import pandas as pd\n",
    "import json\n",
    "import datetime as dt\n",
    "from pathlib import Path\n",
    "\n",
    "%matplotlib inline"
   ]
  },
  {
   "cell_type": "code",
   "execution_count": 11,
   "id": "58c8ccea-07b0-4142-8771-ef4626e30b26",
   "metadata": {},
   "outputs": [
    {
     "name": "stdout",
     "output_type": "stream",
     "text": [
      "39853.0\n"
     ]
    }
   ],
   "source": [
    "# Importing Bitcoin current price\n",
    "# Bitcoin API URL\n",
    "btc_url = \"https://api.alternative.me/v2/ticker/Bitcoin/?convert=AUD\"\n",
    "\n",
    "# Fetch current BTC price\n",
    "btc_response = requests.get(btc_url)\n",
    "btc_content = btc_response.content\n",
    "btc_data = btc_response.json()\n",
    "#print (json.dumps(btc_data, indent=4))\n",
    "btc_price_current = float (btc_data[\"data\"][\"1\"][\"quotes\"][\"USD\"][\"price\"])\n",
    "print (btc_price_current)"
   ]
  },
  {
   "cell_type": "code",
   "execution_count": 29,
   "id": "6542f038-b1de-4b1e-849c-b1770581fda8",
   "metadata": {},
   "outputs": [
    {
     "data": {
      "text/html": [
       "<div>\n",
       "<style scoped>\n",
       "    .dataframe tbody tr th:only-of-type {\n",
       "        vertical-align: middle;\n",
       "    }\n",
       "\n",
       "    .dataframe tbody tr th {\n",
       "        vertical-align: top;\n",
       "    }\n",
       "\n",
       "    .dataframe thead th {\n",
       "        text-align: right;\n",
       "    }\n",
       "</style>\n",
       "<table border=\"1\" class=\"dataframe\">\n",
       "  <thead>\n",
       "    <tr style=\"text-align: right;\">\n",
       "      <th></th>\n",
       "      <th>Close</th>\n",
       "    </tr>\n",
       "  </thead>\n",
       "  <tbody>\n",
       "    <tr>\n",
       "      <th>2015-11-19</th>\n",
       "      <td>454.097675</td>\n",
       "    </tr>\n",
       "    <tr>\n",
       "      <th>2015-11-20</th>\n",
       "      <td>445.560711</td>\n",
       "    </tr>\n",
       "    <tr>\n",
       "      <th>2015-11-22</th>\n",
       "      <td>447.867676</td>\n",
       "    </tr>\n",
       "    <tr>\n",
       "      <th>2015-11-23</th>\n",
       "      <td>449.365998</td>\n",
       "    </tr>\n",
       "    <tr>\n",
       "      <th>2015-11-24</th>\n",
       "      <td>442.422744</td>\n",
       "    </tr>\n",
       "  </tbody>\n",
       "</table>\n",
       "</div>"
      ],
      "text/plain": [
       "                 Close\n",
       "2015-11-19  454.097675\n",
       "2015-11-20  445.560711\n",
       "2015-11-22  447.867676\n",
       "2015-11-23  449.365998\n",
       "2015-11-24  442.422744"
      ]
     },
     "execution_count": 29,
     "metadata": {},
     "output_type": "execute_result"
    }
   ],
   "source": [
    "# Importing Bitcoin historical data\n",
    "\n",
    "# Set the file path\n",
    "btc_path=Path(\"btc_historical.csv\")\n",
    "\n",
    "# Reading the data\n",
    "btc_df=pd.read_csv(btc_path, index_col='Date', parse_dates=True, infer_datetime_format=True)\n",
    "btc_df.index = btc_df.index.date\n",
    "\n",
    "# Ensuring data loaded correctly\n",
    "btc_df.head()"
   ]
  },
  {
   "cell_type": "code",
   "execution_count": 26,
   "id": "0e5bccbf-9873-4fd0-8c52-056eef8297ff",
   "metadata": {},
   "outputs": [
    {
     "data": {
      "text/plain": [
       "Close    0\n",
       "dtype: int64"
      ]
     },
     "execution_count": 26,
     "metadata": {},
     "output_type": "execute_result"
    }
   ],
   "source": [
    "# Cleaning Bitcoin historical data\n",
    "\n",
    "# Count nulls\n",
    "btc_df.isnull().mean()\n",
    "\n",
    "# Drop nulls\n",
    "btc_df = btc_df.dropna()\n",
    "\n",
    "# Checking nulls are dropped\n",
    "btc_df.isnull().sum()"
   ]
  },
  {
   "cell_type": "code",
   "execution_count": 31,
   "id": "a2bc8a8a-1c32-4c0d-921c-11dcacd83634",
   "metadata": {},
   "outputs": [
    {
     "data": {
      "text/html": [
       "<div>\n",
       "<style scoped>\n",
       "    .dataframe tbody tr th:only-of-type {\n",
       "        vertical-align: middle;\n",
       "    }\n",
       "\n",
       "    .dataframe tbody tr th {\n",
       "        vertical-align: top;\n",
       "    }\n",
       "\n",
       "    .dataframe thead th {\n",
       "        text-align: right;\n",
       "    }\n",
       "</style>\n",
       "<table border=\"1\" class=\"dataframe\">\n",
       "  <thead>\n",
       "    <tr style=\"text-align: right;\">\n",
       "      <th></th>\n",
       "      <th>Close</th>\n",
       "    </tr>\n",
       "  </thead>\n",
       "  <tbody>\n",
       "    <tr>\n",
       "      <th>2015-11-19</th>\n",
       "      <td>454.097675</td>\n",
       "    </tr>\n",
       "    <tr>\n",
       "      <th>2015-11-20</th>\n",
       "      <td>445.560711</td>\n",
       "    </tr>\n",
       "    <tr>\n",
       "      <th>2015-11-22</th>\n",
       "      <td>447.867676</td>\n",
       "    </tr>\n",
       "    <tr>\n",
       "      <th>2015-11-23</th>\n",
       "      <td>449.365998</td>\n",
       "    </tr>\n",
       "    <tr>\n",
       "      <th>2015-11-24</th>\n",
       "      <td>442.422744</td>\n",
       "    </tr>\n",
       "  </tbody>\n",
       "</table>\n",
       "</div>"
      ],
      "text/plain": [
       "                 Close\n",
       "2015-11-19  454.097675\n",
       "2015-11-20  445.560711\n",
       "2015-11-22  447.867676\n",
       "2015-11-23  449.365998\n",
       "2015-11-24  442.422744"
      ]
     },
     "execution_count": 31,
     "metadata": {},
     "output_type": "execute_result"
    }
   ],
   "source": [
    "# Importing and cleaning ASX200 historical data\n",
    "\n",
    "# Set the file path\n",
    "asx200_path=Path(\"asx200_historical.csv\")\n",
    "\n",
    "# Reading the data\n",
    "asx200_df=pd.read_csv(btc_path, index_col='Date', parse_dates=True, infer_datetime_format=True)\n",
    "asx200_df.index = asx200_df.index.date\n",
    "\n",
    "# Ensuring data loaded correctly\n",
    "asx200_df.head()"
   ]
  },
  {
   "cell_type": "code",
   "execution_count": 32,
   "id": "4e160601-f84b-451b-bdeb-b40971667807",
   "metadata": {},
   "outputs": [
    {
     "data": {
      "text/plain": [
       "Close    0.0\n",
       "dtype: float64"
      ]
     },
     "execution_count": 32,
     "metadata": {},
     "output_type": "execute_result"
    }
   ],
   "source": [
    "asx200_df.isnull().mean()"
   ]
  },
  {
   "cell_type": "code",
   "execution_count": 34,
   "id": "c9e1307d-edd1-4c2d-87e5-522f2dc27bb1",
   "metadata": {},
   "outputs": [
    {
     "data": {
      "text/html": [
       "<div>\n",
       "<style scoped>\n",
       "    .dataframe tbody tr th:only-of-type {\n",
       "        vertical-align: middle;\n",
       "    }\n",
       "\n",
       "    .dataframe tbody tr th {\n",
       "        vertical-align: top;\n",
       "    }\n",
       "\n",
       "    .dataframe thead th {\n",
       "        text-align: right;\n",
       "    }\n",
       "</style>\n",
       "<table border=\"1\" class=\"dataframe\">\n",
       "  <thead>\n",
       "    <tr style=\"text-align: right;\">\n",
       "      <th></th>\n",
       "      <th>Close</th>\n",
       "    </tr>\n",
       "  </thead>\n",
       "  <tbody>\n",
       "    <tr>\n",
       "      <th>2015-11-19</th>\n",
       "      <td>454.097675</td>\n",
       "    </tr>\n",
       "    <tr>\n",
       "      <th>2015-11-20</th>\n",
       "      <td>445.560711</td>\n",
       "    </tr>\n",
       "    <tr>\n",
       "      <th>2015-11-22</th>\n",
       "      <td>447.867676</td>\n",
       "    </tr>\n",
       "    <tr>\n",
       "      <th>2015-11-23</th>\n",
       "      <td>449.365998</td>\n",
       "    </tr>\n",
       "    <tr>\n",
       "      <th>2015-11-24</th>\n",
       "      <td>442.422744</td>\n",
       "    </tr>\n",
       "  </tbody>\n",
       "</table>\n",
       "</div>"
      ],
      "text/plain": [
       "                 Close\n",
       "2015-11-19  454.097675\n",
       "2015-11-20  445.560711\n",
       "2015-11-22  447.867676\n",
       "2015-11-23  449.365998\n",
       "2015-11-24  442.422744"
      ]
     },
     "execution_count": 34,
     "metadata": {},
     "output_type": "execute_result"
    }
   ],
   "source": [
    "# Importing and cleaning bonds historical data\n",
    "\n",
    "# Set the file path\n",
    "bonds_path=Path(\"asx200_historical.csv\")\n",
    "\n",
    "# Reading the data\n",
    "bonds_df=pd.read_csv(btc_path, index_col='Date', parse_dates=True, infer_datetime_format=True)\n",
    "bonds_df.index = bonds_df.index.date\n",
    "\n",
    "# Ensuring data loaded correctly\n",
    "bonds_df.head()"
   ]
  },
  {
   "cell_type": "code",
   "execution_count": 35,
   "id": "09b510b8-0ee1-4ba3-baff-61f89c524396",
   "metadata": {},
   "outputs": [
    {
     "data": {
      "text/plain": [
       "Close    0.0\n",
       "dtype: float64"
      ]
     },
     "execution_count": 35,
     "metadata": {},
     "output_type": "execute_result"
    }
   ],
   "source": [
    "bonds_df.isnull().mean()"
   ]
  },
  {
   "cell_type": "code",
   "execution_count": 36,
   "id": "ef9f84fa-dd47-4d44-915a-76f15135e684",
   "metadata": {},
   "outputs": [
    {
     "data": {
      "text/html": [
       "<div>\n",
       "<style scoped>\n",
       "    .dataframe tbody tr th:only-of-type {\n",
       "        vertical-align: middle;\n",
       "    }\n",
       "\n",
       "    .dataframe tbody tr th {\n",
       "        vertical-align: top;\n",
       "    }\n",
       "\n",
       "    .dataframe thead th {\n",
       "        text-align: right;\n",
       "    }\n",
       "</style>\n",
       "<table border=\"1\" class=\"dataframe\">\n",
       "  <thead>\n",
       "    <tr style=\"text-align: right;\">\n",
       "      <th></th>\n",
       "      <th>Close</th>\n",
       "    </tr>\n",
       "  </thead>\n",
       "  <tbody>\n",
       "    <tr>\n",
       "      <th>2015-11-19</th>\n",
       "      <td>454.097675</td>\n",
       "    </tr>\n",
       "    <tr>\n",
       "      <th>2015-11-20</th>\n",
       "      <td>445.560711</td>\n",
       "    </tr>\n",
       "    <tr>\n",
       "      <th>2015-11-22</th>\n",
       "      <td>447.867676</td>\n",
       "    </tr>\n",
       "    <tr>\n",
       "      <th>2015-11-23</th>\n",
       "      <td>449.365998</td>\n",
       "    </tr>\n",
       "    <tr>\n",
       "      <th>2015-11-24</th>\n",
       "      <td>442.422744</td>\n",
       "    </tr>\n",
       "  </tbody>\n",
       "</table>\n",
       "</div>"
      ],
      "text/plain": [
       "                 Close\n",
       "2015-11-19  454.097675\n",
       "2015-11-20  445.560711\n",
       "2015-11-22  447.867676\n",
       "2015-11-23  449.365998\n",
       "2015-11-24  442.422744"
      ]
     },
     "execution_count": 36,
     "metadata": {},
     "output_type": "execute_result"
    }
   ],
   "source": [
    "# Importing and cleaning property historical data\n",
    "\n",
    "# Set the file path\n",
    "property_path=Path(\"asx200_historical.csv\")\n",
    "\n",
    "# Reading the data\n",
    "property_df=pd.read_csv(btc_path, index_col='Date', parse_dates=True, infer_datetime_format=True)\n",
    "property_df.index = property_df.index.date\n",
    "\n",
    "# Ensuring data loaded correctly\n",
    "property_df.head()"
   ]
  },
  {
   "cell_type": "code",
   "execution_count": 37,
   "id": "c0829c1f-ad83-466d-b629-7e9d48a83996",
   "metadata": {},
   "outputs": [
    {
     "data": {
      "text/plain": [
       "Close    0.0\n",
       "dtype: float64"
      ]
     },
     "execution_count": 37,
     "metadata": {},
     "output_type": "execute_result"
    }
   ],
   "source": [
    "property_df.isnull().mean()"
   ]
  },
  {
   "cell_type": "code",
   "execution_count": 39,
   "id": "e5ed71f1-b963-427f-a20d-fe35c42e51df",
   "metadata": {},
   "outputs": [
    {
     "name": "stdout",
     "output_type": "stream",
     "text": [
      "BTC is Close    0\n",
      "dtype: int64\n",
      "asx200 is Close    0\n",
      "dtype: int64\n",
      "bonds is Close    0\n",
      "dtype: int64\n",
      "property is Close    0\n",
      "dtype: int64\n"
     ]
    }
   ],
   "source": [
    "# All Nulls removed from data sets\n",
    "\n",
    "print (f\"BTC is {btc_df.isnull().sum()}\")\n",
    "print (f\"asx200 is {asx200_df.isnull().sum()}\")\n",
    "print (f\"bonds is {bonds_df.isnull().sum()}\")\n",
    "print (f\"property is {property_df.isnull().sum()}\")"
   ]
  },
  {
   "cell_type": "code",
   "execution_count": null,
   "id": "a8c409b0-04ac-47d1-8a57-94534285529d",
   "metadata": {},
   "outputs": [],
   "source": []
  }
 ],
 "metadata": {
  "kernelspec": {
   "display_name": "Python [conda env:pyvizenv] *",
   "language": "python",
   "name": "conda-env-pyvizenv-py"
  },
  "language_info": {
   "codemirror_mode": {
    "name": "ipython",
    "version": 3
   },
   "file_extension": ".py",
   "mimetype": "text/x-python",
   "name": "python",
   "nbconvert_exporter": "python",
   "pygments_lexer": "ipython3",
   "version": "3.7.9"
  }
 },
 "nbformat": 4,
 "nbformat_minor": 5
}
