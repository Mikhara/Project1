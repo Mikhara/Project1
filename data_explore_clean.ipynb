{
 "cells": [
  {
   "cell_type": "markdown",
   "id": "96c2eaf4-fc68-4385-9861-e8bf70cae0a8",
   "metadata": {},
   "source": [
    "# DREAMTEAM PROJECT 1"
   ]
  },
  {
   "cell_type": "markdown",
   "id": "b6e53949-63bc-4ac0-8443-9c82e01829df",
   "metadata": {
    "tags": []
   },
   "source": [
    "## Datasets to be used\n",
    "    1. Trading cards (high liquidity cards) - \n",
    "    \n",
    "    2. Bitcoin current price - https://api.alternative.me/v2/ticker/Bitcoin/?convert=CAD\n",
    "    \n",
    "    3. Bitcoin historical data - https://www.google.com/finance/quote/BTC-AUD\n",
    "    \n",
    "    4. Government bond (baseline) - https://www.google.com/finance/quote/GOVT:ASX?window=5Y\n",
    "    \n",
    "    5. ASX200 (general stock market) - https://www.google.com/finance/quote/XJO:INDEXASX\n",
    "    \n",
    "    6. Property - ABS data in 8 capital cities- https://www.abs.gov.au/statistics/economy/price-indexes-and-inflation/residential-property-price-indexes-eight-capital-cities/latest-release"
   ]
  },
  {
   "cell_type": "markdown",
   "id": "9599b499-950e-48ec-97be-1922c12a6ad2",
   "metadata": {},
   "source": [
    "### Why we chose these measures\n",
    "\n",
    "    5. ASX 500: The S&P/ASX 200 index is a market-capitalization weighted and float-adjusted stock market index of stocks listed on the Australian Securities Exchange. The index is maintained by Standard & Poor's and is considered the benchmark for Australian equity performance."
   ]
  },
  {
   "cell_type": "code",
   "execution_count": 139,
   "id": "ee1d0a8e-e9ab-4dca-80c8-4a37b45303dd",
   "metadata": {},
   "outputs": [],
   "source": [
    "# Intialising imports\n",
    "import os\n",
    "import requests\n",
    "import pandas as pd\n",
    "import numpy as np\n",
    "import json\n",
    "import datetime as dt\n",
    "from pathlib import Path\n",
    "import seaborn as sns\n",
    "\n",
    "%matplotlib inline"
   ]
  },
  {
   "cell_type": "markdown",
   "id": "ea385436-6e99-4241-8c86-afd855ad91ef",
   "metadata": {},
   "source": [
    "###  DATA CLEAN"
   ]
  },
  {
   "cell_type": "code",
   "execution_count": 140,
   "id": "58c8ccea-07b0-4142-8771-ef4626e30b26",
   "metadata": {},
   "outputs": [
    {
     "name": "stdout",
     "output_type": "stream",
     "text": [
      "36978.0\n"
     ]
    }
   ],
   "source": [
    "# Importing Bitcoin current price\n",
    "# Bitcoin API URL\n",
    "btc_url = \"https://api.alternative.me/v2/ticker/Bitcoin/?convert=AUD\"\n",
    "\n",
    "# Fetch current BTC price\n",
    "btc_response = requests.get(btc_url)\n",
    "btc_content = btc_response.content\n",
    "btc_data = btc_response.json()\n",
    "#print (json.dumps(btc_data, indent=4))\n",
    "btc_price_current = float (btc_data[\"data\"][\"1\"][\"quotes\"][\"USD\"][\"price\"])\n",
    "print (btc_price_current)"
   ]
  },
  {
   "cell_type": "code",
   "execution_count": 141,
   "id": "6542f038-b1de-4b1e-849c-b1770581fda8",
   "metadata": {},
   "outputs": [
    {
     "data": {
      "text/html": [
       "<div>\n",
       "<style scoped>\n",
       "    .dataframe tbody tr th:only-of-type {\n",
       "        vertical-align: middle;\n",
       "    }\n",
       "\n",
       "    .dataframe tbody tr th {\n",
       "        vertical-align: top;\n",
       "    }\n",
       "\n",
       "    .dataframe thead th {\n",
       "        text-align: right;\n",
       "    }\n",
       "</style>\n",
       "<table border=\"1\" class=\"dataframe\">\n",
       "  <thead>\n",
       "    <tr style=\"text-align: right;\">\n",
       "      <th></th>\n",
       "      <th>Close</th>\n",
       "    </tr>\n",
       "  </thead>\n",
       "  <tbody>\n",
       "    <tr>\n",
       "      <th>2015-11-19</th>\n",
       "      <td>454.097675</td>\n",
       "    </tr>\n",
       "    <tr>\n",
       "      <th>2015-11-20</th>\n",
       "      <td>445.560711</td>\n",
       "    </tr>\n",
       "    <tr>\n",
       "      <th>2015-11-22</th>\n",
       "      <td>447.867676</td>\n",
       "    </tr>\n",
       "    <tr>\n",
       "      <th>2015-11-23</th>\n",
       "      <td>449.365998</td>\n",
       "    </tr>\n",
       "    <tr>\n",
       "      <th>2015-11-24</th>\n",
       "      <td>442.422744</td>\n",
       "    </tr>\n",
       "  </tbody>\n",
       "</table>\n",
       "</div>"
      ],
      "text/plain": [
       "                 Close\n",
       "2015-11-19  454.097675\n",
       "2015-11-20  445.560711\n",
       "2015-11-22  447.867676\n",
       "2015-11-23  449.365998\n",
       "2015-11-24  442.422744"
      ]
     },
     "execution_count": 141,
     "metadata": {},
     "output_type": "execute_result"
    }
   ],
   "source": [
    "# Importing Bitcoin historical data\n",
    "\n",
    "# Set the file path\n",
    "btc_path=Path(\"btc_historical.csv\")\n",
    "\n",
    "# Reading the data\n",
    "btc_df=pd.read_csv(btc_path, index_col='Date', parse_dates=True, infer_datetime_format=True)\n",
    "btc_df.index = btc_df.index.date\n",
    "\n",
    "# Ensuring data loaded correctly\n",
    "btc_df.head()"
   ]
  },
  {
   "cell_type": "code",
   "execution_count": 142,
   "id": "0e5bccbf-9873-4fd0-8c52-056eef8297ff",
   "metadata": {},
   "outputs": [
    {
     "data": {
      "text/plain": [
       "Close    0\n",
       "dtype: int64"
      ]
     },
     "execution_count": 142,
     "metadata": {},
     "output_type": "execute_result"
    }
   ],
   "source": [
    "# Cleaning Bitcoin historical data\n",
    "\n",
    "# Count nulls\n",
    "btc_df.isnull().mean()\n",
    "\n",
    "# Drop nulls\n",
    "btc_df = btc_df.dropna()\n",
    "\n",
    "# Checking nulls are dropped\n",
    "btc_df.isnull().sum()"
   ]
  },
  {
   "cell_type": "code",
   "execution_count": 143,
   "id": "a2bc8a8a-1c32-4c0d-921c-11dcacd83634",
   "metadata": {},
   "outputs": [
    {
     "data": {
      "text/html": [
       "<div>\n",
       "<style scoped>\n",
       "    .dataframe tbody tr th:only-of-type {\n",
       "        vertical-align: middle;\n",
       "    }\n",
       "\n",
       "    .dataframe tbody tr th {\n",
       "        vertical-align: top;\n",
       "    }\n",
       "\n",
       "    .dataframe thead th {\n",
       "        text-align: right;\n",
       "    }\n",
       "</style>\n",
       "<table border=\"1\" class=\"dataframe\">\n",
       "  <thead>\n",
       "    <tr style=\"text-align: right;\">\n",
       "      <th></th>\n",
       "      <th>Close</th>\n",
       "    </tr>\n",
       "  </thead>\n",
       "  <tbody>\n",
       "    <tr>\n",
       "      <th>2011-05-20</th>\n",
       "      <td>4732.2</td>\n",
       "    </tr>\n",
       "    <tr>\n",
       "      <th>2011-05-23</th>\n",
       "      <td>4643.0</td>\n",
       "    </tr>\n",
       "    <tr>\n",
       "      <th>2011-05-24</th>\n",
       "      <td>4628.8</td>\n",
       "    </tr>\n",
       "    <tr>\n",
       "      <th>2011-05-25</th>\n",
       "      <td>4584.7</td>\n",
       "    </tr>\n",
       "    <tr>\n",
       "      <th>2011-05-26</th>\n",
       "      <td>4660.2</td>\n",
       "    </tr>\n",
       "  </tbody>\n",
       "</table>\n",
       "</div>"
      ],
      "text/plain": [
       "             Close\n",
       "2011-05-20  4732.2\n",
       "2011-05-23  4643.0\n",
       "2011-05-24  4628.8\n",
       "2011-05-25  4584.7\n",
       "2011-05-26  4660.2"
      ]
     },
     "execution_count": 143,
     "metadata": {},
     "output_type": "execute_result"
    }
   ],
   "source": [
    "# Importing and cleaning ASX200 historical data\n",
    "\n",
    "# Set the file path\n",
    "asx200_path=Path(\"asx200_historical.csv\")\n",
    "\n",
    "# Reading the data\n",
    "asx200_df=pd.read_csv(asx200_path, index_col='Date', parse_dates=True, infer_datetime_format=True)\n",
    "asx200_df.index = asx200_df.index.date\n",
    "\n",
    "# Ensuring data loaded correctly\n",
    "asx200_df.head()"
   ]
  },
  {
   "cell_type": "code",
   "execution_count": 144,
   "id": "4e160601-f84b-451b-bdeb-b40971667807",
   "metadata": {},
   "outputs": [
    {
     "data": {
      "text/plain": [
       "Close    0.0\n",
       "dtype: float64"
      ]
     },
     "execution_count": 144,
     "metadata": {},
     "output_type": "execute_result"
    }
   ],
   "source": [
    "asx200_df.isnull().mean()"
   ]
  },
  {
   "cell_type": "code",
   "execution_count": 145,
   "id": "c9e1307d-edd1-4c2d-87e5-522f2dc27bb1",
   "metadata": {},
   "outputs": [
    {
     "data": {
      "text/html": [
       "<div>\n",
       "<style scoped>\n",
       "    .dataframe tbody tr th:only-of-type {\n",
       "        vertical-align: middle;\n",
       "    }\n",
       "\n",
       "    .dataframe tbody tr th {\n",
       "        vertical-align: top;\n",
       "    }\n",
       "\n",
       "    .dataframe thead th {\n",
       "        text-align: right;\n",
       "    }\n",
       "</style>\n",
       "<table border=\"1\" class=\"dataframe\">\n",
       "  <thead>\n",
       "    <tr style=\"text-align: right;\">\n",
       "      <th></th>\n",
       "      <th>Close</th>\n",
       "    </tr>\n",
       "  </thead>\n",
       "  <tbody>\n",
       "    <tr>\n",
       "      <th>2012-07-27</th>\n",
       "      <td>25.00</td>\n",
       "    </tr>\n",
       "    <tr>\n",
       "      <th>2012-08-08</th>\n",
       "      <td>24.57</td>\n",
       "    </tr>\n",
       "    <tr>\n",
       "      <th>2012-09-12</th>\n",
       "      <td>24.92</td>\n",
       "    </tr>\n",
       "    <tr>\n",
       "      <th>2012-09-19</th>\n",
       "      <td>24.78</td>\n",
       "    </tr>\n",
       "    <tr>\n",
       "      <th>2012-09-24</th>\n",
       "      <td>24.71</td>\n",
       "    </tr>\n",
       "  </tbody>\n",
       "</table>\n",
       "</div>"
      ],
      "text/plain": [
       "            Close\n",
       "2012-07-27  25.00\n",
       "2012-08-08  24.57\n",
       "2012-09-12  24.92\n",
       "2012-09-19  24.78\n",
       "2012-09-24  24.71"
      ]
     },
     "execution_count": 145,
     "metadata": {},
     "output_type": "execute_result"
    }
   ],
   "source": [
    "# Importing and cleaning bonds historical data\n",
    "\n",
    "# Set the file path\n",
    "bonds_path=Path(\"asx_bonds.csv\")\n",
    "\n",
    "# Reading the data\n",
    "bonds_df=pd.read_csv(bonds_path, index_col='Date', parse_dates=True, infer_datetime_format=True)\n",
    "bonds_df.index = bonds_df.index.date\n",
    "\n",
    "# Ensuring data loaded correctly\n",
    "bonds_df.head()"
   ]
  },
  {
   "cell_type": "code",
   "execution_count": 146,
   "id": "09b510b8-0ee1-4ba3-baff-61f89c524396",
   "metadata": {},
   "outputs": [
    {
     "data": {
      "text/plain": [
       "Close    0.0\n",
       "dtype: float64"
      ]
     },
     "execution_count": 146,
     "metadata": {},
     "output_type": "execute_result"
    }
   ],
   "source": [
    "bonds_df.isnull().mean()"
   ]
  },
  {
   "cell_type": "code",
   "execution_count": 147,
   "id": "ef9f84fa-dd47-4d44-915a-76f15135e684",
   "metadata": {},
   "outputs": [
    {
     "data": {
      "text/html": [
       "<div>\n",
       "<style scoped>\n",
       "    .dataframe tbody tr th:only-of-type {\n",
       "        vertical-align: middle;\n",
       "    }\n",
       "\n",
       "    .dataframe tbody tr th {\n",
       "        vertical-align: top;\n",
       "    }\n",
       "\n",
       "    .dataframe thead th {\n",
       "        text-align: right;\n",
       "    }\n",
       "</style>\n",
       "<table border=\"1\" class=\"dataframe\">\n",
       "  <thead>\n",
       "    <tr style=\"text-align: right;\">\n",
       "      <th></th>\n",
       "      <th>Weighted Average of eight Capital Cities</th>\n",
       "    </tr>\n",
       "    <tr>\n",
       "      <th>Date</th>\n",
       "      <th></th>\n",
       "    </tr>\n",
       "  </thead>\n",
       "  <tbody>\n",
       "    <tr>\n",
       "      <th>2003-09-01</th>\n",
       "      <td>69.0</td>\n",
       "    </tr>\n",
       "    <tr>\n",
       "      <th>2003-12-01</th>\n",
       "      <td>71.6</td>\n",
       "    </tr>\n",
       "    <tr>\n",
       "      <th>2004-03-01</th>\n",
       "      <td>71.3</td>\n",
       "    </tr>\n",
       "    <tr>\n",
       "      <th>2004-06-01</th>\n",
       "      <td>70.6</td>\n",
       "    </tr>\n",
       "    <tr>\n",
       "      <th>2004-09-01</th>\n",
       "      <td>70.6</td>\n",
       "    </tr>\n",
       "  </tbody>\n",
       "</table>\n",
       "</div>"
      ],
      "text/plain": [
       "            Weighted Average of eight Capital Cities\n",
       "Date                                                \n",
       "2003-09-01                                      69.0\n",
       "2003-12-01                                      71.6\n",
       "2004-03-01                                      71.3\n",
       "2004-06-01                                      70.6\n",
       "2004-09-01                                      70.6"
      ]
     },
     "execution_count": 147,
     "metadata": {},
     "output_type": "execute_result"
    }
   ],
   "source": [
    "# Importing and cleaning property historical data\n",
    "\n",
    "# Set the file path\n",
    "property_path=Path(\"property_history.csv\")\n",
    "\n",
    "# Reading the data\n",
    "property_df=pd.read_csv(property_path, index_col='Date', parse_dates=True, infer_datetime_format=True)\n",
    "#property_df.index = property_df.index.date\n",
    "\n",
    "# Ensuring data loaded correctly\n",
    "property_df.head()\n"
   ]
  },
  {
   "cell_type": "code",
   "execution_count": 148,
   "id": "c0829c1f-ad83-466d-b629-7e9d48a83996",
   "metadata": {},
   "outputs": [
    {
     "data": {
      "text/plain": [
       "Weighted Average of eight Capital Cities    0.0\n",
       "dtype: float64"
      ]
     },
     "execution_count": 148,
     "metadata": {},
     "output_type": "execute_result"
    }
   ],
   "source": [
    "property_df.dropna()\n",
    "property_df.isnull().mean()"
   ]
  },
  {
   "cell_type": "code",
   "execution_count": 149,
   "id": "e5ed71f1-b963-427f-a20d-fe35c42e51df",
   "metadata": {},
   "outputs": [
    {
     "name": "stdout",
     "output_type": "stream",
     "text": [
      "BTC is Close    0\n",
      "dtype: int64\n",
      "asx200 is Close    0\n",
      "dtype: int64\n",
      "bonds is Close    0\n",
      "dtype: int64\n",
      "property is Weighted Average of eight Capital Cities    0\n",
      "dtype: int64\n"
     ]
    }
   ],
   "source": [
    "# All Nulls removed from data sets\n",
    "\n",
    "print (f\"BTC is {btc_df.isnull().sum()}\")\n",
    "print (f\"asx200 is {asx200_df.isnull().sum()}\")\n",
    "print (f\"bonds is {bonds_df.isnull().sum()}\")\n",
    "print (f\"property is {property_df.isnull().sum()}\")"
   ]
  },
  {
   "cell_type": "code",
   "execution_count": null,
   "id": "a8c409b0-04ac-47d1-8a57-94534285529d",
   "metadata": {},
   "outputs": [],
   "source": []
  },
  {
   "cell_type": "markdown",
   "id": "99cf501d-c53c-4f78-ae53-6cecf54d036e",
   "metadata": {},
   "source": [
    "# ANALYSIS "
   ]
  },
  {
   "cell_type": "markdown",
   "id": "3cdaa134-c2f6-4973-9d69-a5ded2d73b07",
   "metadata": {},
   "source": [
    "## TRADITIONAL PORTFOLIO\n",
    "    1. ASX200\n",
    "    2. Bonds\n",
    "    3. Property"
   ]
  },
  {
   "cell_type": "code",
   "execution_count": 150,
   "id": "ff0d9d25-67d2-4381-8ef6-cf4ca6d38943",
   "metadata": {},
   "outputs": [
    {
     "name": "stdout",
     "output_type": "stream",
     "text": [
      "float64\n",
      "float64\n",
      "float64\n"
     ]
    }
   ],
   "source": [
    "# Checking data types and setting them to float variables as needed\n",
    "print (asx200_df['Close'].dtype)\n",
    "print (bonds_df['Close'].dtype)\n",
    "print (property_df['Weighted Average of eight Capital Cities'].dtype)\n",
    "\n",
    "# All data types are currently float variables"
   ]
  },
  {
   "cell_type": "code",
   "execution_count": 151,
   "id": "1149c765-cbc6-48a2-b312-ada4bf841165",
   "metadata": {
    "tags": []
   },
   "outputs": [
    {
     "data": {
      "text/html": [
       "<div>\n",
       "<style scoped>\n",
       "    .dataframe tbody tr th:only-of-type {\n",
       "        vertical-align: middle;\n",
       "    }\n",
       "\n",
       "    .dataframe tbody tr th {\n",
       "        vertical-align: top;\n",
       "    }\n",
       "\n",
       "    .dataframe thead th {\n",
       "        text-align: right;\n",
       "    }\n",
       "</style>\n",
       "<table border=\"1\" class=\"dataframe\">\n",
       "  <thead>\n",
       "    <tr style=\"text-align: right;\">\n",
       "      <th></th>\n",
       "      <th>ASX 200</th>\n",
       "    </tr>\n",
       "  </thead>\n",
       "  <tbody>\n",
       "    <tr>\n",
       "      <th>2011-05-20</th>\n",
       "      <td>NaN</td>\n",
       "    </tr>\n",
       "    <tr>\n",
       "      <th>2011-05-23</th>\n",
       "      <td>-0.018850</td>\n",
       "    </tr>\n",
       "    <tr>\n",
       "      <th>2011-05-24</th>\n",
       "      <td>-0.003058</td>\n",
       "    </tr>\n",
       "    <tr>\n",
       "      <th>2011-05-25</th>\n",
       "      <td>-0.009527</td>\n",
       "    </tr>\n",
       "    <tr>\n",
       "      <th>2011-05-26</th>\n",
       "      <td>0.016468</td>\n",
       "    </tr>\n",
       "  </tbody>\n",
       "</table>\n",
       "</div>"
      ],
      "text/plain": [
       "             ASX 200\n",
       "2011-05-20       NaN\n",
       "2011-05-23 -0.018850\n",
       "2011-05-24 -0.003058\n",
       "2011-05-25 -0.009527\n",
       "2011-05-26  0.016468"
      ]
     },
     "execution_count": 151,
     "metadata": {},
     "output_type": "execute_result"
    }
   ],
   "source": [
    "# Calculating daily returns for ASX 200\n",
    "asx200_df_daily_returns = asx200_df.pct_change()\n",
    "asx200_df_daily_returns.columns =[\"ASX 200\"]\n",
    "asx200_df_daily_returns.head()"
   ]
  },
  {
   "cell_type": "code",
   "execution_count": 152,
   "id": "49de8d19-4fab-4371-9417-9f389233a43f",
   "metadata": {},
   "outputs": [
    {
     "data": {
      "text/html": [
       "<div>\n",
       "<style scoped>\n",
       "    .dataframe tbody tr th:only-of-type {\n",
       "        vertical-align: middle;\n",
       "    }\n",
       "\n",
       "    .dataframe tbody tr th {\n",
       "        vertical-align: top;\n",
       "    }\n",
       "\n",
       "    .dataframe thead th {\n",
       "        text-align: right;\n",
       "    }\n",
       "</style>\n",
       "<table border=\"1\" class=\"dataframe\">\n",
       "  <thead>\n",
       "    <tr style=\"text-align: right;\">\n",
       "      <th></th>\n",
       "      <th>Bonds</th>\n",
       "    </tr>\n",
       "  </thead>\n",
       "  <tbody>\n",
       "    <tr>\n",
       "      <th>2012-07-27</th>\n",
       "      <td>NaN</td>\n",
       "    </tr>\n",
       "    <tr>\n",
       "      <th>2012-08-08</th>\n",
       "      <td>-0.017200</td>\n",
       "    </tr>\n",
       "    <tr>\n",
       "      <th>2012-09-12</th>\n",
       "      <td>0.014245</td>\n",
       "    </tr>\n",
       "    <tr>\n",
       "      <th>2012-09-19</th>\n",
       "      <td>-0.005618</td>\n",
       "    </tr>\n",
       "    <tr>\n",
       "      <th>2012-09-24</th>\n",
       "      <td>-0.002825</td>\n",
       "    </tr>\n",
       "  </tbody>\n",
       "</table>\n",
       "</div>"
      ],
      "text/plain": [
       "               Bonds\n",
       "2012-07-27       NaN\n",
       "2012-08-08 -0.017200\n",
       "2012-09-12  0.014245\n",
       "2012-09-19 -0.005618\n",
       "2012-09-24 -0.002825"
      ]
     },
     "execution_count": 152,
     "metadata": {},
     "output_type": "execute_result"
    }
   ],
   "source": [
    "# Calculating daily returns for Bonds\n",
    "bonds_df_daily_returns = bonds_df.pct_change()\n",
    "bonds_df_daily_returns.columns =[\"Bonds\"]\n",
    "bonds_df_daily_returns.head()"
   ]
  },
  {
   "cell_type": "code",
   "execution_count": 156,
   "id": "d92a9366-cd75-40a6-a6af-4c838c954d29",
   "metadata": {},
   "outputs": [
    {
     "data": {
      "text/html": [
       "<div>\n",
       "<style scoped>\n",
       "    .dataframe tbody tr th:only-of-type {\n",
       "        vertical-align: middle;\n",
       "    }\n",
       "\n",
       "    .dataframe tbody tr th {\n",
       "        vertical-align: top;\n",
       "    }\n",
       "\n",
       "    .dataframe thead th {\n",
       "        text-align: right;\n",
       "    }\n",
       "</style>\n",
       "<table border=\"1\" class=\"dataframe\">\n",
       "  <thead>\n",
       "    <tr style=\"text-align: right;\">\n",
       "      <th></th>\n",
       "      <th>Weighted Average of eight Capital Cities</th>\n",
       "    </tr>\n",
       "    <tr>\n",
       "      <th>Date</th>\n",
       "      <th></th>\n",
       "    </tr>\n",
       "  </thead>\n",
       "  <tbody>\n",
       "    <tr>\n",
       "      <th>2003-09-01</th>\n",
       "      <td>NaN</td>\n",
       "    </tr>\n",
       "    <tr>\n",
       "      <th>2003-12-01</th>\n",
       "      <td>0.037681</td>\n",
       "    </tr>\n",
       "    <tr>\n",
       "      <th>2004-03-01</th>\n",
       "      <td>-0.004190</td>\n",
       "    </tr>\n",
       "    <tr>\n",
       "      <th>2004-06-01</th>\n",
       "      <td>-0.009818</td>\n",
       "    </tr>\n",
       "    <tr>\n",
       "      <th>2004-09-01</th>\n",
       "      <td>0.000000</td>\n",
       "    </tr>\n",
       "  </tbody>\n",
       "</table>\n",
       "</div>"
      ],
      "text/plain": [
       "            Weighted Average of eight Capital Cities\n",
       "Date                                                \n",
       "2003-09-01                                       NaN\n",
       "2003-12-01                                  0.037681\n",
       "2004-03-01                                 -0.004190\n",
       "2004-06-01                                 -0.009818\n",
       "2004-09-01                                  0.000000"
      ]
     },
     "execution_count": 156,
     "metadata": {},
     "output_type": "execute_result"
    }
   ],
   "source": [
    "# Calculating quarterly returns for Weighted Average\n",
    "property_df_quarterly_returns = property_df.pct_change()\n",
    "property_df_quarterly_returns.head()"
   ]
  },
  {
   "cell_type": "markdown",
   "id": "1247d2a0-d61b-43f9-ada5-ac4e4162723a",
   "metadata": {},
   "source": [
    "### Traditional portfolio - Quarterly Returns"
   ]
  },
  {
   "cell_type": "code",
   "execution_count": 158,
   "id": "683c2b98-5f86-4fa7-b70f-81bfc05600c4",
   "metadata": {
    "tags": []
   },
   "outputs": [
    {
     "data": {
      "text/html": [
       "<div>\n",
       "<style scoped>\n",
       "    .dataframe tbody tr th:only-of-type {\n",
       "        vertical-align: middle;\n",
       "    }\n",
       "\n",
       "    .dataframe tbody tr th {\n",
       "        vertical-align: top;\n",
       "    }\n",
       "\n",
       "    .dataframe thead th {\n",
       "        text-align: right;\n",
       "    }\n",
       "</style>\n",
       "<table border=\"1\" class=\"dataframe\">\n",
       "  <thead>\n",
       "    <tr style=\"text-align: right;\">\n",
       "      <th></th>\n",
       "      <th>ASX 200</th>\n",
       "      <th>Bonds</th>\n",
       "      <th>Weighted Average of eight Capital Cities</th>\n",
       "    </tr>\n",
       "  </thead>\n",
       "  <tbody>\n",
       "    <tr>\n",
       "      <th>2015-06-01</th>\n",
       "      <td>-0.007235</td>\n",
       "      <td>0.001923</td>\n",
       "      <td>0.046683</td>\n",
       "    </tr>\n",
       "    <tr>\n",
       "      <th>2015-09-01</th>\n",
       "      <td>-0.021241</td>\n",
       "      <td>0.006551</td>\n",
       "      <td>0.020344</td>\n",
       "    </tr>\n",
       "    <tr>\n",
       "      <th>2016-03-01</th>\n",
       "      <td>0.008482</td>\n",
       "      <td>0.001526</td>\n",
       "      <td>-0.001531</td>\n",
       "    </tr>\n",
       "    <tr>\n",
       "      <th>2016-06-01</th>\n",
       "      <td>-0.010300</td>\n",
       "      <td>-0.001139</td>\n",
       "      <td>0.019939</td>\n",
       "    </tr>\n",
       "    <tr>\n",
       "      <th>2016-09-01</th>\n",
       "      <td>-0.003203</td>\n",
       "      <td>0.004104</td>\n",
       "      <td>0.015038</td>\n",
       "    </tr>\n",
       "  </tbody>\n",
       "</table>\n",
       "</div>"
      ],
      "text/plain": [
       "             ASX 200     Bonds  Weighted Average of eight Capital Cities\n",
       "2015-06-01 -0.007235  0.001923                                  0.046683\n",
       "2015-09-01 -0.021241  0.006551                                  0.020344\n",
       "2016-03-01  0.008482  0.001526                                 -0.001531\n",
       "2016-06-01 -0.010300 -0.001139                                  0.019939\n",
       "2016-09-01 -0.003203  0.004104                                  0.015038"
      ]
     },
     "execution_count": 158,
     "metadata": {},
     "output_type": "execute_result"
    }
   ],
   "source": [
    "# Combining datasets to create traditional portfolio\n",
    "traditional_df_quarterly_returns = pd.concat([asx200_df_daily_returns, bonds_df_daily_returns, property_df_quarterly_returns], axis=\"columns\", join=\"outer\")\n",
    "traditional_df_quarterly_returns.dropna().head()"
   ]
  },
  {
   "cell_type": "markdown",
   "id": "667b5d48-84dd-442a-ae28-d36d236d4d50",
   "metadata": {},
   "source": [
    "### Traditional portfolio - Daily Returns"
   ]
  },
  {
   "cell_type": "code",
   "execution_count": 133,
   "id": "d5c86049-48e2-4966-b77d-f5539d740603",
   "metadata": {
    "tags": []
   },
   "outputs": [
    {
     "data": {
      "text/html": [
       "<div>\n",
       "<style scoped>\n",
       "    .dataframe tbody tr th:only-of-type {\n",
       "        vertical-align: middle;\n",
       "    }\n",
       "\n",
       "    .dataframe tbody tr th {\n",
       "        vertical-align: top;\n",
       "    }\n",
       "\n",
       "    .dataframe thead th {\n",
       "        text-align: right;\n",
       "    }\n",
       "</style>\n",
       "<table border=\"1\" class=\"dataframe\">\n",
       "  <thead>\n",
       "    <tr style=\"text-align: right;\">\n",
       "      <th></th>\n",
       "      <th>ASX 200</th>\n",
       "      <th>Bonds</th>\n",
       "    </tr>\n",
       "  </thead>\n",
       "  <tbody>\n",
       "    <tr>\n",
       "      <th>2012-08-08</th>\n",
       "      <td>0.004893</td>\n",
       "      <td>-0.017200</td>\n",
       "    </tr>\n",
       "    <tr>\n",
       "      <th>2012-09-12</th>\n",
       "      <td>0.008207</td>\n",
       "      <td>0.014245</td>\n",
       "    </tr>\n",
       "    <tr>\n",
       "      <th>2012-09-19</th>\n",
       "      <td>0.005393</td>\n",
       "      <td>-0.005618</td>\n",
       "    </tr>\n",
       "    <tr>\n",
       "      <th>2012-09-24</th>\n",
       "      <td>-0.005172</td>\n",
       "      <td>-0.002825</td>\n",
       "    </tr>\n",
       "    <tr>\n",
       "      <th>2012-10-08</th>\n",
       "      <td>-0.002781</td>\n",
       "      <td>0.011736</td>\n",
       "    </tr>\n",
       "  </tbody>\n",
       "</table>\n",
       "</div>"
      ],
      "text/plain": [
       "             ASX 200     Bonds\n",
       "2012-08-08  0.004893 -0.017200\n",
       "2012-09-12  0.008207  0.014245\n",
       "2012-09-19  0.005393 -0.005618\n",
       "2012-09-24 -0.005172 -0.002825\n",
       "2012-10-08 -0.002781  0.011736"
      ]
     },
     "execution_count": 133,
     "metadata": {},
     "output_type": "execute_result"
    }
   ],
   "source": [
    "traditional_df_daily_returns = pd.concat([asx200_df_daily_returns, bonds_df_daily_returns], axis=\"columns\", join=\"inner\")\n",
    "traditional_df_daily_returns.dropna().head()"
   ]
  },
  {
   "cell_type": "markdown",
   "id": "d22e4c81-3333-4d81-97d6-b6fa042c1370",
   "metadata": {
    "tags": []
   },
   "source": []
  },
  {
   "cell_type": "code",
   "execution_count": null,
   "id": "9ee212ea-07b2-425b-9f70-4d36f9ca332a",
   "metadata": {},
   "outputs": [],
   "source": []
  },
  {
   "cell_type": "code",
   "execution_count": null,
   "id": "d6e0f8d1-2204-4053-af33-295d2769c733",
   "metadata": {},
   "outputs": [],
   "source": []
  },
  {
   "cell_type": "code",
   "execution_count": null,
   "id": "6d56b36c-bba0-4dbb-bf37-4b9b641ac9eb",
   "metadata": {},
   "outputs": [],
   "source": []
  }
 ],
 "metadata": {
  "kernelspec": {
   "display_name": "Python [conda env:pyvizenv] *",
   "language": "python",
   "name": "conda-env-pyvizenv-py"
  },
  "language_info": {
   "codemirror_mode": {
    "name": "ipython",
    "version": 3
   },
   "file_extension": ".py",
   "mimetype": "text/x-python",
   "name": "python",
   "nbconvert_exporter": "python",
   "pygments_lexer": "ipython3",
   "version": "3.7.9"
  }
 },
 "nbformat": 4,
 "nbformat_minor": 5
}
